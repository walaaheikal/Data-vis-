{
 "cells": [
  {
   "cell_type": "markdown",
   "id": "fb584d57",
   "metadata": {
    "papermill": {
     "duration": 0.004697,
     "end_time": "2023-12-13T12:35:15.264071",
     "exception": false,
     "start_time": "2023-12-13T12:35:15.259374",
     "status": "completed"
    },
    "tags": []
   },
   "source": [
    "## Table of Content\n",
    "\n",
    "<div class=\"alert alert-block alert-info\" style=\"margin-top: 20px\">\n",
    "\n",
    "1. [import libraries](#0)<br>\n",
    "2. [upLoading and read dataset](#1)<br>\n",
    "3. [Data Cleaning](#2)<br>\n",
    "4. [Visualization](#3) <br>\n",
    "5. [Build model ML](#4) <br>\n",
    "</div>\n"
   ]
  },
  {
   "cell_type": "markdown",
   "id": "1c9bcd67",
   "metadata": {
    "papermill": {
     "duration": 0.004311,
     "end_time": "2023-12-13T12:35:15.274487",
     "exception": false,
     "start_time": "2023-12-13T12:35:15.270176",
     "status": "completed"
    },
    "tags": []
   },
   "source": [
    "# import libraries<a id=\"0\"></a>"
   ]
  },
  {
   "cell_type": "code",
   "execution_count": 1,
   "id": "ac32a44a",
   "metadata": {
    "execution": {
     "iopub.execute_input": "2023-12-13T12:35:15.286003Z",
     "iopub.status.busy": "2023-12-13T12:35:15.285044Z",
     "iopub.status.idle": "2023-12-13T12:35:16.189897Z",
     "shell.execute_reply": "2023-12-13T12:35:16.187850Z"
    },
    "papermill": {
     "duration": 0.913447,
     "end_time": "2023-12-13T12:35:16.192278",
     "exception": false,
     "start_time": "2023-12-13T12:35:15.278831",
     "status": "completed"
    },
    "tags": []
   },
   "outputs": [],
   "source": [
    "import numpy as np\n",
    "import pandas as pd\n",
    "import matplotlib.pyplot as plt  "
   ]
  },
  {
   "cell_type": "markdown",
   "id": "a3371975",
   "metadata": {
    "papermill": {
     "duration": 0.003919,
     "end_time": "2023-12-13T12:35:16.200879",
     "exception": false,
     "start_time": "2023-12-13T12:35:16.196960",
     "status": "completed"
    },
    "tags": []
   },
   "source": [
    "# upLoading and read dataset <a id=\"1\"></a>\n"
   ]
  },
  {
   "cell_type": "code",
   "execution_count": 2,
   "id": "01f74c5a",
   "metadata": {
    "execution": {
     "iopub.execute_input": "2023-12-13T12:35:16.212467Z",
     "iopub.status.busy": "2023-12-13T12:35:16.211826Z",
     "iopub.status.idle": "2023-12-13T12:35:16.240113Z",
     "shell.execute_reply": "2023-12-13T12:35:16.238024Z"
    },
    "papermill": {
     "duration": 0.036987,
     "end_time": "2023-12-13T12:35:16.242274",
     "exception": false,
     "start_time": "2023-12-13T12:35:16.205287",
     "status": "completed"
    },
    "tags": []
   },
   "outputs": [
    {
     "name": "stdout",
     "output_type": "stream",
     "text": [
      "Successfully Imported Data!\n"
     ]
    }
   ],
   "source": [
    "data = pd.read_csv(\"/kaggle/input/up-data/diabetes.csv\")\n",
    "print(\"Successfully Imported Data!\")"
   ]
  },
  {
   "cell_type": "code",
   "execution_count": 3,
   "id": "660a0e27",
   "metadata": {
    "execution": {
     "iopub.execute_input": "2023-12-13T12:35:16.253456Z",
     "iopub.status.busy": "2023-12-13T12:35:16.252974Z",
     "iopub.status.idle": "2023-12-13T12:35:16.285252Z",
     "shell.execute_reply": "2023-12-13T12:35:16.283627Z"
    },
    "papermill": {
     "duration": 0.041643,
     "end_time": "2023-12-13T12:35:16.288459",
     "exception": false,
     "start_time": "2023-12-13T12:35:16.246816",
     "status": "completed"
    },
    "tags": []
   },
   "outputs": [
    {
     "data": {
      "text/html": [
       "<div>\n",
       "<style scoped>\n",
       "    .dataframe tbody tr th:only-of-type {\n",
       "        vertical-align: middle;\n",
       "    }\n",
       "\n",
       "    .dataframe tbody tr th {\n",
       "        vertical-align: top;\n",
       "    }\n",
       "\n",
       "    .dataframe thead th {\n",
       "        text-align: right;\n",
       "    }\n",
       "</style>\n",
       "<table border=\"1\" class=\"dataframe\">\n",
       "  <thead>\n",
       "    <tr style=\"text-align: right;\">\n",
       "      <th></th>\n",
       "      <th>Pregnancies</th>\n",
       "      <th>Glucose</th>\n",
       "      <th>BloodPressure</th>\n",
       "      <th>SkinThickness</th>\n",
       "      <th>Insulin</th>\n",
       "      <th>BMI</th>\n",
       "      <th>DiabetesPedigreeFunction</th>\n",
       "      <th>Age</th>\n",
       "      <th>Outcome</th>\n",
       "    </tr>\n",
       "  </thead>\n",
       "  <tbody>\n",
       "    <tr>\n",
       "      <th>0</th>\n",
       "      <td>6</td>\n",
       "      <td>148</td>\n",
       "      <td>72</td>\n",
       "      <td>35</td>\n",
       "      <td>0</td>\n",
       "      <td>33.6</td>\n",
       "      <td>0.627</td>\n",
       "      <td>50</td>\n",
       "      <td>1</td>\n",
       "    </tr>\n",
       "    <tr>\n",
       "      <th>1</th>\n",
       "      <td>1</td>\n",
       "      <td>85</td>\n",
       "      <td>66</td>\n",
       "      <td>29</td>\n",
       "      <td>0</td>\n",
       "      <td>26.6</td>\n",
       "      <td>0.351</td>\n",
       "      <td>31</td>\n",
       "      <td>0</td>\n",
       "    </tr>\n",
       "    <tr>\n",
       "      <th>2</th>\n",
       "      <td>8</td>\n",
       "      <td>183</td>\n",
       "      <td>64</td>\n",
       "      <td>0</td>\n",
       "      <td>0</td>\n",
       "      <td>23.3</td>\n",
       "      <td>0.672</td>\n",
       "      <td>32</td>\n",
       "      <td>1</td>\n",
       "    </tr>\n",
       "    <tr>\n",
       "      <th>3</th>\n",
       "      <td>1</td>\n",
       "      <td>89</td>\n",
       "      <td>66</td>\n",
       "      <td>23</td>\n",
       "      <td>94</td>\n",
       "      <td>28.1</td>\n",
       "      <td>0.167</td>\n",
       "      <td>21</td>\n",
       "      <td>0</td>\n",
       "    </tr>\n",
       "    <tr>\n",
       "      <th>4</th>\n",
       "      <td>0</td>\n",
       "      <td>137</td>\n",
       "      <td>40</td>\n",
       "      <td>35</td>\n",
       "      <td>168</td>\n",
       "      <td>43.1</td>\n",
       "      <td>2.288</td>\n",
       "      <td>33</td>\n",
       "      <td>1</td>\n",
       "    </tr>\n",
       "  </tbody>\n",
       "</table>\n",
       "</div>"
      ],
      "text/plain": [
       "   Pregnancies  Glucose  BloodPressure  SkinThickness  Insulin   BMI  \\\n",
       "0            6      148             72             35        0  33.6   \n",
       "1            1       85             66             29        0  26.6   \n",
       "2            8      183             64              0        0  23.3   \n",
       "3            1       89             66             23       94  28.1   \n",
       "4            0      137             40             35      168  43.1   \n",
       "\n",
       "   DiabetesPedigreeFunction  Age  Outcome  \n",
       "0                     0.627   50        1  \n",
       "1                     0.351   31        0  \n",
       "2                     0.672   32        1  \n",
       "3                     0.167   21        0  \n",
       "4                     2.288   33        1  "
      ]
     },
     "execution_count": 3,
     "metadata": {},
     "output_type": "execute_result"
    }
   ],
   "source": [
    "##Show data\n",
    "data.head()"
   ]
  },
  {
   "cell_type": "code",
   "execution_count": 4,
   "id": "3ca0e652",
   "metadata": {
    "execution": {
     "iopub.execute_input": "2023-12-13T12:35:16.299045Z",
     "iopub.status.busy": "2023-12-13T12:35:16.298683Z",
     "iopub.status.idle": "2023-12-13T12:35:16.305581Z",
     "shell.execute_reply": "2023-12-13T12:35:16.304696Z"
    },
    "papermill": {
     "duration": 0.014238,
     "end_time": "2023-12-13T12:35:16.307418",
     "exception": false,
     "start_time": "2023-12-13T12:35:16.293180",
     "status": "completed"
    },
    "tags": []
   },
   "outputs": [
    {
     "data": {
      "text/plain": [
       "(768, 9)"
      ]
     },
     "execution_count": 4,
     "metadata": {},
     "output_type": "execute_result"
    }
   ],
   "source": [
    "data.shape"
   ]
  },
  {
   "cell_type": "markdown",
   "id": "92b29cc8",
   "metadata": {
    "papermill": {
     "duration": 0.004115,
     "end_time": "2023-12-13T12:35:16.316139",
     "exception": false,
     "start_time": "2023-12-13T12:35:16.312024",
     "status": "completed"
    },
    "tags": []
   },
   "source": [
    "#### Several constraints were placed on the selection of these instances from a larger database. In particular, all patients here are females at least 21 years old of Pima Indian heritage.\n",
    "\n",
    "##### 1-Pregnancies: Number of times pregnant\n",
    "##### 2-Glucose: Plasma glucose concentration a 2 hours in an oral glucose tolerance test\n",
    "##### 3-BloodPressure: Diastolic blood pressure (mm Hg)\n",
    "##### 4-SkinThickness: Triceps skin fold thickness (mm)\n",
    "##### 5-Insulin: 2-Hour serum insulin (mu U/ml)\n",
    "##### 6-BMI: Body mass index (weight in kg/(height in m)^2)\n",
    "##### 7-DiabetesPedigreeFunction: Diabetes pedigree function\n",
    "##### 8-Age: Age (years)\n",
    "#### 9-Outcome: Class variable (0 or 1)"
   ]
  },
  {
   "cell_type": "markdown",
   "id": "57fa25b2",
   "metadata": {
    "papermill": {
     "duration": 0.004207,
     "end_time": "2023-12-13T12:35:16.324687",
     "exception": false,
     "start_time": "2023-12-13T12:35:16.320480",
     "status": "completed"
    },
    "tags": []
   },
   "source": [
    "## Data Cleaning<a id=\"2\"></a>"
   ]
  },
  {
   "cell_type": "markdown",
   "id": "0a612c26",
   "metadata": {
    "papermill": {
     "duration": 0.004851,
     "end_time": "2023-12-13T12:35:16.333948",
     "exception": false,
     "start_time": "2023-12-13T12:35:16.329097",
     "status": "completed"
    },
    "tags": []
   },
   "source": [
    "## 1-deals with Missing Values \n",
    "## How many missing data points do we have?"
   ]
  },
  {
   "cell_type": "code",
   "execution_count": 5,
   "id": "acb1bee7",
   "metadata": {
    "execution": {
     "iopub.execute_input": "2023-12-13T12:35:16.345616Z",
     "iopub.status.busy": "2023-12-13T12:35:16.345258Z",
     "iopub.status.idle": "2023-12-13T12:35:16.354745Z",
     "shell.execute_reply": "2023-12-13T12:35:16.353884Z"
    },
    "papermill": {
     "duration": 0.017469,
     "end_time": "2023-12-13T12:35:16.356660",
     "exception": false,
     "start_time": "2023-12-13T12:35:16.339191",
     "status": "completed"
    },
    "tags": []
   },
   "outputs": [
    {
     "data": {
      "text/plain": [
       "Pregnancies                 0\n",
       "Glucose                     0\n",
       "BloodPressure               0\n",
       "SkinThickness               0\n",
       "Insulin                     0\n",
       "BMI                         0\n",
       "DiabetesPedigreeFunction    0\n",
       "Age                         0\n",
       "Outcome                     0\n",
       "dtype: int64"
      ]
     },
     "execution_count": 5,
     "metadata": {},
     "output_type": "execute_result"
    }
   ],
   "source": [
    "missing_values = data.isnull().sum()\n",
    "missing_values"
   ]
  },
  {
   "cell_type": "markdown",
   "id": "1b21516d",
   "metadata": {
    "papermill": {
     "duration": 0.004368,
     "end_time": "2023-12-13T12:35:16.365849",
     "exception": false,
     "start_time": "2023-12-13T12:35:16.361481",
     "status": "completed"
    },
    "tags": []
   },
   "source": [
    "## then  no missing values in data\n",
    "## If we have missing values then we can \n",
    "#### 1-Drop missing values\n",
    "#### 2-Filling in missing values automatically\n",
    "(Another option is to try and fill in the missing values)"
   ]
  },
  {
   "cell_type": "code",
   "execution_count": 6,
   "id": "f64671c9",
   "metadata": {
    "execution": {
     "iopub.execute_input": "2023-12-13T12:35:16.376317Z",
     "iopub.status.busy": "2023-12-13T12:35:16.375983Z",
     "iopub.status.idle": "2023-12-13T12:35:16.384488Z",
     "shell.execute_reply": "2023-12-13T12:35:16.383421Z"
    },
    "papermill": {
     "duration": 0.016176,
     "end_time": "2023-12-13T12:35:16.386473",
     "exception": false,
     "start_time": "2023-12-13T12:35:16.370297",
     "status": "completed"
    },
    "tags": []
   },
   "outputs": [
    {
     "data": {
      "text/plain": [
       "(768, 9)"
      ]
     },
     "execution_count": 6,
     "metadata": {},
     "output_type": "execute_result"
    }
   ],
   "source": [
    "#1 remove all the rows that contain a missing value\n",
    "data_clean = data.dropna()\n",
    "data_clean.shape"
   ]
  },
  {
   "cell_type": "code",
   "execution_count": 7,
   "id": "be656ea2",
   "metadata": {
    "execution": {
     "iopub.execute_input": "2023-12-13T12:35:16.397651Z",
     "iopub.status.busy": "2023-12-13T12:35:16.397302Z",
     "iopub.status.idle": "2023-12-13T12:35:16.410934Z",
     "shell.execute_reply": "2023-12-13T12:35:16.409933Z"
    },
    "papermill": {
     "duration": 0.021781,
     "end_time": "2023-12-13T12:35:16.413157",
     "exception": false,
     "start_time": "2023-12-13T12:35:16.391376",
     "status": "completed"
    },
    "tags": []
   },
   "outputs": [
    {
     "data": {
      "text/html": [
       "<div>\n",
       "<style scoped>\n",
       "    .dataframe tbody tr th:only-of-type {\n",
       "        vertical-align: middle;\n",
       "    }\n",
       "\n",
       "    .dataframe tbody tr th {\n",
       "        vertical-align: top;\n",
       "    }\n",
       "\n",
       "    .dataframe thead th {\n",
       "        text-align: right;\n",
       "    }\n",
       "</style>\n",
       "<table border=\"1\" class=\"dataframe\">\n",
       "  <thead>\n",
       "    <tr style=\"text-align: right;\">\n",
       "      <th></th>\n",
       "      <th>Pregnancies</th>\n",
       "      <th>Glucose</th>\n",
       "      <th>BloodPressure</th>\n",
       "      <th>SkinThickness</th>\n",
       "      <th>Insulin</th>\n",
       "      <th>BMI</th>\n",
       "      <th>DiabetesPedigreeFunction</th>\n",
       "      <th>Age</th>\n",
       "      <th>Outcome</th>\n",
       "    </tr>\n",
       "  </thead>\n",
       "  <tbody>\n",
       "    <tr>\n",
       "      <th>0</th>\n",
       "      <td>6</td>\n",
       "      <td>148</td>\n",
       "      <td>72</td>\n",
       "      <td>35</td>\n",
       "      <td>0</td>\n",
       "      <td>33.6</td>\n",
       "      <td>0.627</td>\n",
       "      <td>50</td>\n",
       "      <td>1</td>\n",
       "    </tr>\n",
       "    <tr>\n",
       "      <th>1</th>\n",
       "      <td>1</td>\n",
       "      <td>85</td>\n",
       "      <td>66</td>\n",
       "      <td>29</td>\n",
       "      <td>0</td>\n",
       "      <td>26.6</td>\n",
       "      <td>0.351</td>\n",
       "      <td>31</td>\n",
       "      <td>0</td>\n",
       "    </tr>\n",
       "    <tr>\n",
       "      <th>2</th>\n",
       "      <td>8</td>\n",
       "      <td>183</td>\n",
       "      <td>64</td>\n",
       "      <td>0</td>\n",
       "      <td>0</td>\n",
       "      <td>23.3</td>\n",
       "      <td>0.672</td>\n",
       "      <td>32</td>\n",
       "      <td>1</td>\n",
       "    </tr>\n",
       "    <tr>\n",
       "      <th>3</th>\n",
       "      <td>1</td>\n",
       "      <td>89</td>\n",
       "      <td>66</td>\n",
       "      <td>23</td>\n",
       "      <td>94</td>\n",
       "      <td>28.1</td>\n",
       "      <td>0.167</td>\n",
       "      <td>21</td>\n",
       "      <td>0</td>\n",
       "    </tr>\n",
       "    <tr>\n",
       "      <th>4</th>\n",
       "      <td>0</td>\n",
       "      <td>137</td>\n",
       "      <td>40</td>\n",
       "      <td>35</td>\n",
       "      <td>168</td>\n",
       "      <td>43.1</td>\n",
       "      <td>2.288</td>\n",
       "      <td>33</td>\n",
       "      <td>1</td>\n",
       "    </tr>\n",
       "  </tbody>\n",
       "</table>\n",
       "</div>"
      ],
      "text/plain": [
       "   Pregnancies  Glucose  BloodPressure  SkinThickness  Insulin   BMI  \\\n",
       "0            6      148             72             35        0  33.6   \n",
       "1            1       85             66             29        0  26.6   \n",
       "2            8      183             64              0        0  23.3   \n",
       "3            1       89             66             23       94  28.1   \n",
       "4            0      137             40             35      168  43.1   \n",
       "\n",
       "   DiabetesPedigreeFunction  Age  Outcome  \n",
       "0                     0.627   50        1  \n",
       "1                     0.351   31        0  \n",
       "2                     0.672   32        1  \n",
       "3                     0.167   21        0  \n",
       "4                     2.288   33        1  "
      ]
     },
     "execution_count": 7,
     "metadata": {},
     "output_type": "execute_result"
    }
   ],
   "source": [
    "#2 remove all columns with at least one missing value\n",
    "columns_with_na_dropped = data.dropna(axis=1)\n",
    "columns_with_na_dropped.head()\n",
    "##data_clean.shape"
   ]
  },
  {
   "cell_type": "code",
   "execution_count": 8,
   "id": "db86ed92",
   "metadata": {
    "execution": {
     "iopub.execute_input": "2023-12-13T12:35:16.425687Z",
     "iopub.status.busy": "2023-12-13T12:35:16.425300Z",
     "iopub.status.idle": "2023-12-13T12:35:16.431283Z",
     "shell.execute_reply": "2023-12-13T12:35:16.429682Z"
    },
    "papermill": {
     "duration": 0.015405,
     "end_time": "2023-12-13T12:35:16.434123",
     "exception": false,
     "start_time": "2023-12-13T12:35:16.418718",
     "status": "completed"
    },
    "tags": []
   },
   "outputs": [
    {
     "name": "stdout",
     "output_type": "stream",
     "text": [
      "Columns in original dataset:  9\n",
      "Columns with na's dropped:  9\n"
     ]
    }
   ],
   "source": [
    "#3 just how much data did we lose?\n",
    "print(\"Columns in original dataset: \", data.shape[1])\n",
    "print(\"Columns with na's dropped: \" , columns_with_na_dropped.shape[1])"
   ]
  },
  {
   "cell_type": "code",
   "execution_count": 9,
   "id": "034fb359",
   "metadata": {
    "execution": {
     "iopub.execute_input": "2023-12-13T12:35:16.446056Z",
     "iopub.status.busy": "2023-12-13T12:35:16.445697Z",
     "iopub.status.idle": "2023-12-13T12:35:16.459494Z",
     "shell.execute_reply": "2023-12-13T12:35:16.458387Z"
    },
    "papermill": {
     "duration": 0.021811,
     "end_time": "2023-12-13T12:35:16.461390",
     "exception": false,
     "start_time": "2023-12-13T12:35:16.439579",
     "status": "completed"
    },
    "tags": []
   },
   "outputs": [
    {
     "data": {
      "text/html": [
       "<div>\n",
       "<style scoped>\n",
       "    .dataframe tbody tr th:only-of-type {\n",
       "        vertical-align: middle;\n",
       "    }\n",
       "\n",
       "    .dataframe tbody tr th {\n",
       "        vertical-align: top;\n",
       "    }\n",
       "\n",
       "    .dataframe thead th {\n",
       "        text-align: right;\n",
       "    }\n",
       "</style>\n",
       "<table border=\"1\" class=\"dataframe\">\n",
       "  <thead>\n",
       "    <tr style=\"text-align: right;\">\n",
       "      <th></th>\n",
       "      <th>Pregnancies</th>\n",
       "      <th>Glucose</th>\n",
       "      <th>BloodPressure</th>\n",
       "      <th>SkinThickness</th>\n",
       "      <th>Insulin</th>\n",
       "      <th>BMI</th>\n",
       "      <th>DiabetesPedigreeFunction</th>\n",
       "      <th>Age</th>\n",
       "      <th>Outcome</th>\n",
       "    </tr>\n",
       "  </thead>\n",
       "  <tbody>\n",
       "    <tr>\n",
       "      <th>0</th>\n",
       "      <td>6</td>\n",
       "      <td>148</td>\n",
       "      <td>72</td>\n",
       "      <td>35</td>\n",
       "      <td>0</td>\n",
       "      <td>33.6</td>\n",
       "      <td>0.627</td>\n",
       "      <td>50</td>\n",
       "      <td>1</td>\n",
       "    </tr>\n",
       "    <tr>\n",
       "      <th>1</th>\n",
       "      <td>1</td>\n",
       "      <td>85</td>\n",
       "      <td>66</td>\n",
       "      <td>29</td>\n",
       "      <td>0</td>\n",
       "      <td>26.6</td>\n",
       "      <td>0.351</td>\n",
       "      <td>31</td>\n",
       "      <td>0</td>\n",
       "    </tr>\n",
       "    <tr>\n",
       "      <th>2</th>\n",
       "      <td>8</td>\n",
       "      <td>183</td>\n",
       "      <td>64</td>\n",
       "      <td>0</td>\n",
       "      <td>0</td>\n",
       "      <td>23.3</td>\n",
       "      <td>0.672</td>\n",
       "      <td>32</td>\n",
       "      <td>1</td>\n",
       "    </tr>\n",
       "    <tr>\n",
       "      <th>3</th>\n",
       "      <td>1</td>\n",
       "      <td>89</td>\n",
       "      <td>66</td>\n",
       "      <td>23</td>\n",
       "      <td>94</td>\n",
       "      <td>28.1</td>\n",
       "      <td>0.167</td>\n",
       "      <td>21</td>\n",
       "      <td>0</td>\n",
       "    </tr>\n",
       "    <tr>\n",
       "      <th>4</th>\n",
       "      <td>0</td>\n",
       "      <td>137</td>\n",
       "      <td>40</td>\n",
       "      <td>35</td>\n",
       "      <td>168</td>\n",
       "      <td>43.1</td>\n",
       "      <td>2.288</td>\n",
       "      <td>33</td>\n",
       "      <td>1</td>\n",
       "    </tr>\n",
       "  </tbody>\n",
       "</table>\n",
       "</div>"
      ],
      "text/plain": [
       "   Pregnancies  Glucose  BloodPressure  SkinThickness  Insulin   BMI  \\\n",
       "0            6      148             72             35        0  33.6   \n",
       "1            1       85             66             29        0  26.6   \n",
       "2            8      183             64              0        0  23.3   \n",
       "3            1       89             66             23       94  28.1   \n",
       "4            0      137             40             35      168  43.1   \n",
       "\n",
       "   DiabetesPedigreeFunction  Age  Outcome  \n",
       "0                     0.627   50        1  \n",
       "1                     0.351   31        0  \n",
       "2                     0.672   32        1  \n",
       "3                     0.167   21        0  \n",
       "4                     2.288   33        1  "
      ]
     },
     "execution_count": 9,
     "metadata": {},
     "output_type": "execute_result"
    }
   ],
   "source": [
    "#4 Filling in missing values automatically(replace all NA's with 0)\n",
    "data_clean = data.fillna(0)\n",
    "data_clean.head()"
   ]
  },
  {
   "cell_type": "code",
   "execution_count": 10,
   "id": "406423a0",
   "metadata": {
    "execution": {
     "iopub.execute_input": "2023-12-13T12:35:16.473606Z",
     "iopub.status.busy": "2023-12-13T12:35:16.473277Z",
     "iopub.status.idle": "2023-12-13T12:35:16.494109Z",
     "shell.execute_reply": "2023-12-13T12:35:16.493065Z"
    },
    "papermill": {
     "duration": 0.029273,
     "end_time": "2023-12-13T12:35:16.496063",
     "exception": false,
     "start_time": "2023-12-13T12:35:16.466790",
     "status": "completed"
    },
    "tags": []
   },
   "outputs": [
    {
     "data": {
      "text/html": [
       "<div>\n",
       "<style scoped>\n",
       "    .dataframe tbody tr th:only-of-type {\n",
       "        vertical-align: middle;\n",
       "    }\n",
       "\n",
       "    .dataframe tbody tr th {\n",
       "        vertical-align: top;\n",
       "    }\n",
       "\n",
       "    .dataframe thead th {\n",
       "        text-align: right;\n",
       "    }\n",
       "</style>\n",
       "<table border=\"1\" class=\"dataframe\">\n",
       "  <thead>\n",
       "    <tr style=\"text-align: right;\">\n",
       "      <th></th>\n",
       "      <th>Pregnancies</th>\n",
       "      <th>Glucose</th>\n",
       "      <th>BloodPressure</th>\n",
       "      <th>SkinThickness</th>\n",
       "      <th>Insulin</th>\n",
       "      <th>BMI</th>\n",
       "      <th>DiabetesPedigreeFunction</th>\n",
       "      <th>Age</th>\n",
       "      <th>Outcome</th>\n",
       "    </tr>\n",
       "  </thead>\n",
       "  <tbody>\n",
       "    <tr>\n",
       "      <th>0</th>\n",
       "      <td>6</td>\n",
       "      <td>148</td>\n",
       "      <td>72</td>\n",
       "      <td>35</td>\n",
       "      <td>0</td>\n",
       "      <td>33.6</td>\n",
       "      <td>0.627</td>\n",
       "      <td>50</td>\n",
       "      <td>1</td>\n",
       "    </tr>\n",
       "    <tr>\n",
       "      <th>1</th>\n",
       "      <td>1</td>\n",
       "      <td>85</td>\n",
       "      <td>66</td>\n",
       "      <td>29</td>\n",
       "      <td>0</td>\n",
       "      <td>26.6</td>\n",
       "      <td>0.351</td>\n",
       "      <td>31</td>\n",
       "      <td>0</td>\n",
       "    </tr>\n",
       "    <tr>\n",
       "      <th>2</th>\n",
       "      <td>8</td>\n",
       "      <td>183</td>\n",
       "      <td>64</td>\n",
       "      <td>0</td>\n",
       "      <td>0</td>\n",
       "      <td>23.3</td>\n",
       "      <td>0.672</td>\n",
       "      <td>32</td>\n",
       "      <td>1</td>\n",
       "    </tr>\n",
       "    <tr>\n",
       "      <th>3</th>\n",
       "      <td>1</td>\n",
       "      <td>89</td>\n",
       "      <td>66</td>\n",
       "      <td>23</td>\n",
       "      <td>94</td>\n",
       "      <td>28.1</td>\n",
       "      <td>0.167</td>\n",
       "      <td>21</td>\n",
       "      <td>0</td>\n",
       "    </tr>\n",
       "    <tr>\n",
       "      <th>4</th>\n",
       "      <td>0</td>\n",
       "      <td>137</td>\n",
       "      <td>40</td>\n",
       "      <td>35</td>\n",
       "      <td>168</td>\n",
       "      <td>43.1</td>\n",
       "      <td>2.288</td>\n",
       "      <td>33</td>\n",
       "      <td>1</td>\n",
       "    </tr>\n",
       "  </tbody>\n",
       "</table>\n",
       "</div>"
      ],
      "text/plain": [
       "   Pregnancies  Glucose  BloodPressure  SkinThickness  Insulin   BMI  \\\n",
       "0            6      148             72             35        0  33.6   \n",
       "1            1       85             66             29        0  26.6   \n",
       "2            8      183             64              0        0  23.3   \n",
       "3            1       89             66             23       94  28.1   \n",
       "4            0      137             40             35      168  43.1   \n",
       "\n",
       "   DiabetesPedigreeFunction  Age  Outcome  \n",
       "0                     0.627   50        1  \n",
       "1                     0.351   31        0  \n",
       "2                     0.672   32        1  \n",
       "3                     0.167   21        0  \n",
       "4                     2.288   33        1  "
      ]
     },
     "execution_count": 10,
     "metadata": {},
     "output_type": "execute_result"
    }
   ],
   "source": [
    "#5 replace all NA's the value that comes directly after it in the same column, \n",
    "data_clean = data.fillna(method='bfill', axis=0) # bfill and backfill is the same\n",
    "data_clean.head()"
   ]
  },
  {
   "cell_type": "code",
   "execution_count": 11,
   "id": "6ff88a0c",
   "metadata": {
    "execution": {
     "iopub.execute_input": "2023-12-13T12:35:16.508774Z",
     "iopub.status.busy": "2023-12-13T12:35:16.508441Z",
     "iopub.status.idle": "2023-12-13T12:35:16.516322Z",
     "shell.execute_reply": "2023-12-13T12:35:16.515205Z"
    },
    "papermill": {
     "duration": 0.016452,
     "end_time": "2023-12-13T12:35:16.518096",
     "exception": false,
     "start_time": "2023-12-13T12:35:16.501644",
     "status": "completed"
    },
    "tags": []
   },
   "outputs": [
    {
     "data": {
      "text/plain": [
       "Pregnancies                 0\n",
       "Glucose                     0\n",
       "BloodPressure               0\n",
       "SkinThickness               0\n",
       "Insulin                     0\n",
       "BMI                         0\n",
       "DiabetesPedigreeFunction    0\n",
       "Age                         0\n",
       "Outcome                     0\n",
       "dtype: int64"
      ]
     },
     "execution_count": 11,
     "metadata": {},
     "output_type": "execute_result"
    }
   ],
   "source": [
    "data_clean.isnull().sum()"
   ]
  },
  {
   "cell_type": "markdown",
   "id": "7da84e76",
   "metadata": {
    "papermill": {
     "duration": 0.005174,
     "end_time": "2023-12-13T12:35:16.528908",
     "exception": false,
     "start_time": "2023-12-13T12:35:16.523734",
     "status": "completed"
    },
    "tags": []
   },
   "source": [
    "# 2- detect and remove outliers"
   ]
  },
  {
   "cell_type": "code",
   "execution_count": 12,
   "id": "a868f827",
   "metadata": {
    "execution": {
     "iopub.execute_input": "2023-12-13T12:35:16.541436Z",
     "iopub.status.busy": "2023-12-13T12:35:16.541102Z",
     "iopub.status.idle": "2023-12-13T12:35:16.891174Z",
     "shell.execute_reply": "2023-12-13T12:35:16.889872Z"
    },
    "papermill": {
     "duration": 0.359005,
     "end_time": "2023-12-13T12:35:16.893529",
     "exception": false,
     "start_time": "2023-12-13T12:35:16.534524",
     "status": "completed"
    },
    "tags": []
   },
   "outputs": [
    {
     "data": {
      "image/png": "[encoded data removed]",
      "text/plain": [
       "<Figure size 1500x900 with 1 Axes>"
      ]
     },
     "metadata": {},
     "output_type": "display_data"
    }
   ],
   "source": [
    "# Box Plot\n",
    "data.plot(kind='box', figsize=(15, 9))\n",
    "\n",
    "plt.title('visualize to get outliers ')\n",
    "plt.ylabel('Number of persons ')\n",
    "\n",
    "plt.show()"
   ]
  },
  {
   "cell_type": "code",
   "execution_count": null,
   "id": "83ef99aa",
   "metadata": {
    "papermill": {
     "duration": 0.005835,
     "end_time": "2023-12-13T12:35:16.905644",
     "exception": false,
     "start_time": "2023-12-13T12:35:16.899809",
     "status": "completed"
    },
    "tags": []
   },
   "outputs": [],
   "source": []
  }
 ],
 "metadata": {
  "kaggle": {
   "accelerator": "none",
   "dataSources": [
    {
     "datasetId": 4158557,
     "sourceId": 7191733,
     "sourceType": "datasetVersion"
    }
   ],
   "dockerImageVersionId": 30587,
   "isGpuEnabled": false,
   "isInternetEnabled": false,
   "language": "python",
   "sourceType": "notebook"
  },
  "kernelspec": {
   "display_name": "Python 3",
   "language": "python",
   "name": "python3"
  },
  "language_info": {
   "codemirror_mode": {
    "name": "ipython",
    "version": 3
   },
   "file_extension": ".py",
   "mimetype": "text/x-python",
   "name": "python",
   "nbconvert_exporter": "python",
   "pygments_lexer": "ipython3",
   "version": "3.10.12"
  },
  "papermill": {
   "default_parameters": {},
   "duration": 5.029616,
   "end_time": "2023-12-13T12:35:17.331902",
   "environment_variables": {},
   "exception": null,
   "input_path": "__notebook__.ipynb",
   "output_path": "__notebook__.ipynb",
   "parameters": {},
   "start_time": "2023-12-13T12:35:12.302286",
   "version": "2.4.0"
  }
 },
 "nbformat": 4,
 "nbformat_minor": 5
}
