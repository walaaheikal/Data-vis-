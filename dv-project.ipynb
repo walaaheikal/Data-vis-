{
 "cells": [
  {
   "cell_type": "markdown",
   "id": "456b9fee",
   "metadata": {
    "execution": {
     "iopub.execute_input": "2023-12-08T14:58:06.885328Z",
     "iopub.status.busy": "2023-12-08T14:58:06.884260Z",
     "iopub.status.idle": "2023-12-08T14:58:06.992442Z",
     "shell.execute_reply": "2023-12-08T14:58:06.991197Z",
     "shell.execute_reply.started": "2023-12-08T14:58:06.885263Z"
    },
    "papermill": {
     "duration": 0.007291,
     "end_time": "2023-12-13T12:07:00.807943",
     "exception": false,
     "start_time": "2023-12-13T12:07:00.800652",
     "status": "completed"
    },
    "tags": []
   },
   "source": [
    "# import libraries"
   ]
  },
  {
   "cell_type": "code",
   "execution_count": 1,
   "id": "049b7607",
   "metadata": {
    "execution": {
     "iopub.execute_input": "2023-12-13T12:07:00.827756Z",
     "iopub.status.busy": "2023-12-13T12:07:00.826229Z",
     "iopub.status.idle": "2023-12-13T12:07:01.912672Z",
     "shell.execute_reply": "2023-12-13T12:07:01.911712Z"
    },
    "papermill": {
     "duration": 1.097992,
     "end_time": "2023-12-13T12:07:01.915708",
     "exception": false,
     "start_time": "2023-12-13T12:07:00.817716",
     "status": "completed"
    },
    "tags": []
   },
   "outputs": [],
   "source": [
    "import numpy as np\n",
    "import pandas as pd\n",
    "import matplotlib.pyplot as plt  "
   ]
  },
  {
   "cell_type": "markdown",
   "id": "11820020",
   "metadata": {
    "papermill": {
     "duration": 0.008047,
     "end_time": "2023-12-13T12:07:01.931040",
     "exception": false,
     "start_time": "2023-12-13T12:07:01.922993",
     "status": "completed"
    },
    "tags": []
   },
   "source": [
    "# Loading dataset\n"
   ]
  },
  {
   "cell_type": "code",
   "execution_count": 2,
   "id": "3399f2d4",
   "metadata": {
    "execution": {
     "iopub.execute_input": "2023-12-13T12:07:01.947577Z",
     "iopub.status.busy": "2023-12-13T12:07:01.946662Z",
     "iopub.status.idle": "2023-12-13T12:07:01.978226Z",
     "shell.execute_reply": "2023-12-13T12:07:01.976892Z"
    },
    "papermill": {
     "duration": 0.043728,
     "end_time": "2023-12-13T12:07:01.981708",
     "exception": false,
     "start_time": "2023-12-13T12:07:01.937980",
     "status": "completed"
    },
    "tags": []
   },
   "outputs": [
    {
     "name": "stdout",
     "output_type": "stream",
     "text": [
      "Successfully Imported Data!\n"
     ]
    }
   ],
   "source": [
    "data = pd.read_csv(\"/kaggle/input/up-data/diabetes.csv\")\n",
    "print(\"Successfully Imported Data!\")"
   ]
  },
  {
   "cell_type": "code",
   "execution_count": 3,
   "id": "fc67deeb",
   "metadata": {
    "execution": {
     "iopub.execute_input": "2023-12-13T12:07:01.999608Z",
     "iopub.status.busy": "2023-12-13T12:07:01.998562Z",
     "iopub.status.idle": "2023-12-13T12:07:02.034856Z",
     "shell.execute_reply": "2023-12-13T12:07:02.033031Z"
    },
    "papermill": {
     "duration": 0.04842,
     "end_time": "2023-12-13T12:07:02.037986",
     "exception": false,
     "start_time": "2023-12-13T12:07:01.989566",
     "status": "completed"
    },
    "tags": []
   },
   "outputs": [
    {
     "data": {
      "text/html": [
       "<div>\n",
       "<style scoped>\n",
       "    .dataframe tbody tr th:only-of-type {\n",
       "        vertical-align: middle;\n",
       "    }\n",
       "\n",
       "    .dataframe tbody tr th {\n",
       "        vertical-align: top;\n",
       "    }\n",
       "\n",
       "    .dataframe thead th {\n",
       "        text-align: right;\n",
       "    }\n",
       "</style>\n",
       "<table border=\"1\" class=\"dataframe\">\n",
       "  <thead>\n",
       "    <tr style=\"text-align: right;\">\n",
       "      <th></th>\n",
       "      <th>Pregnancies</th>\n",
       "      <th>Glucose</th>\n",
       "      <th>BloodPressure</th>\n",
       "      <th>SkinThickness</th>\n",
       "      <th>Insulin</th>\n",
       "      <th>BMI</th>\n",
       "      <th>DiabetesPedigreeFunction</th>\n",
       "      <th>Age</th>\n",
       "      <th>Outcome</th>\n",
       "    </tr>\n",
       "  </thead>\n",
       "  <tbody>\n",
       "    <tr>\n",
       "      <th>0</th>\n",
       "      <td>6</td>\n",
       "      <td>148</td>\n",
       "      <td>72</td>\n",
       "      <td>35</td>\n",
       "      <td>0</td>\n",
       "      <td>33.6</td>\n",
       "      <td>0.627</td>\n",
       "      <td>50</td>\n",
       "      <td>1</td>\n",
       "    </tr>\n",
       "    <tr>\n",
       "      <th>1</th>\n",
       "      <td>1</td>\n",
       "      <td>85</td>\n",
       "      <td>66</td>\n",
       "      <td>29</td>\n",
       "      <td>0</td>\n",
       "      <td>26.6</td>\n",
       "      <td>0.351</td>\n",
       "      <td>31</td>\n",
       "      <td>0</td>\n",
       "    </tr>\n",
       "    <tr>\n",
       "      <th>2</th>\n",
       "      <td>8</td>\n",
       "      <td>183</td>\n",
       "      <td>64</td>\n",
       "      <td>0</td>\n",
       "      <td>0</td>\n",
       "      <td>23.3</td>\n",
       "      <td>0.672</td>\n",
       "      <td>32</td>\n",
       "      <td>1</td>\n",
       "    </tr>\n",
       "    <tr>\n",
       "      <th>3</th>\n",
       "      <td>1</td>\n",
       "      <td>89</td>\n",
       "      <td>66</td>\n",
       "      <td>23</td>\n",
       "      <td>94</td>\n",
       "      <td>28.1</td>\n",
       "      <td>0.167</td>\n",
       "      <td>21</td>\n",
       "      <td>0</td>\n",
       "    </tr>\n",
       "    <tr>\n",
       "      <th>4</th>\n",
       "      <td>0</td>\n",
       "      <td>137</td>\n",
       "      <td>40</td>\n",
       "      <td>35</td>\n",
       "      <td>168</td>\n",
       "      <td>43.1</td>\n",
       "      <td>2.288</td>\n",
       "      <td>33</td>\n",
       "      <td>1</td>\n",
       "    </tr>\n",
       "  </tbody>\n",
       "</table>\n",
       "</div>"
      ],
      "text/plain": [
       "   Pregnancies  Glucose  BloodPressure  SkinThickness  Insulin   BMI  \\\n",
       "0            6      148             72             35        0  33.6   \n",
       "1            1       85             66             29        0  26.6   \n",
       "2            8      183             64              0        0  23.3   \n",
       "3            1       89             66             23       94  28.1   \n",
       "4            0      137             40             35      168  43.1   \n",
       "\n",
       "   DiabetesPedigreeFunction  Age  Outcome  \n",
       "0                     0.627   50        1  \n",
       "1                     0.351   31        0  \n",
       "2                     0.672   32        1  \n",
       "3                     0.167   21        0  \n",
       "4                     2.288   33        1  "
      ]
     },
     "execution_count": 3,
     "metadata": {},
     "output_type": "execute_result"
    }
   ],
   "source": [
    "##Show data\n",
    "data.head()"
   ]
  },
  {
   "cell_type": "code",
   "execution_count": 4,
   "id": "ddb97417",
   "metadata": {
    "execution": {
     "iopub.execute_input": "2023-12-13T12:07:02.055561Z",
     "iopub.status.busy": "2023-12-13T12:07:02.055131Z",
     "iopub.status.idle": "2023-12-13T12:07:02.063203Z",
     "shell.execute_reply": "2023-12-13T12:07:02.061655Z"
    },
    "papermill": {
     "duration": 0.021218,
     "end_time": "2023-12-13T12:07:02.066534",
     "exception": false,
     "start_time": "2023-12-13T12:07:02.045316",
     "status": "completed"
    },
    "tags": []
   },
   "outputs": [
    {
     "data": {
      "text/plain": [
       "(768, 9)"
      ]
     },
     "execution_count": 4,
     "metadata": {},
     "output_type": "execute_result"
    }
   ],
   "source": [
    "data.shape"
   ]
  },
  {
   "cell_type": "markdown",
   "id": "4f7e4114",
   "metadata": {
    "papermill": {
     "duration": 0.007373,
     "end_time": "2023-12-13T12:07:02.081551",
     "exception": false,
     "start_time": "2023-12-13T12:07:02.074178",
     "status": "completed"
    },
    "tags": []
   },
   "source": [
    "#### Several constraints were placed on the selection of these instances from a larger database. In particular, all patients here are females at least 21 years old of Pima Indian heritage.\n",
    "\n",
    "##### 1-Pregnancies: Number of times pregnant\n",
    "##### 2-Glucose: Plasma glucose concentration a 2 hours in an oral glucose tolerance test\n",
    "##### 3-BloodPressure: Diastolic blood pressure (mm Hg)\n",
    "##### 4-SkinThickness: Triceps skin fold thickness (mm)\n",
    "##### 5-Insulin: 2-Hour serum insulin (mu U/ml)\n",
    "##### 6-BMI: Body mass index (weight in kg/(height in m)^2)\n",
    "##### 7-DiabetesPedigreeFunction: Diabetes pedigree function\n",
    "##### 8-Age: Age (years)\n",
    "#### 9-Outcome: Class variable (0 or 1)"
   ]
  },
  {
   "cell_type": "markdown",
   "id": "146694dd",
   "metadata": {
    "papermill": {
     "duration": 0.007213,
     "end_time": "2023-12-13T12:07:02.096289",
     "exception": false,
     "start_time": "2023-12-13T12:07:02.089076",
     "status": "completed"
    },
    "tags": []
   },
   "source": [
    "## Data Cleaning"
   ]
  },
  {
   "cell_type": "markdown",
   "id": "bed3a14e",
   "metadata": {
    "papermill": {
     "duration": 0.007241,
     "end_time": "2023-12-13T12:07:02.111003",
     "exception": false,
     "start_time": "2023-12-13T12:07:02.103762",
     "status": "completed"
    },
    "tags": []
   },
   "source": [
    "## 1-deals with Missing Values \n",
    "## How many missing data points do we have?"
   ]
  },
  {
   "cell_type": "code",
   "execution_count": 5,
   "id": "a1dfe5f6",
   "metadata": {
    "execution": {
     "iopub.execute_input": "2023-12-13T12:07:02.127817Z",
     "iopub.status.busy": "2023-12-13T12:07:02.127310Z",
     "iopub.status.idle": "2023-12-13T12:07:02.138225Z",
     "shell.execute_reply": "2023-12-13T12:07:02.136897Z"
    },
    "papermill": {
     "duration": 0.022687,
     "end_time": "2023-12-13T12:07:02.141103",
     "exception": false,
     "start_time": "2023-12-13T12:07:02.118416",
     "status": "completed"
    },
    "tags": []
   },
   "outputs": [
    {
     "data": {
      "text/plain": [
       "Pregnancies                 0\n",
       "Glucose                     0\n",
       "BloodPressure               0\n",
       "SkinThickness               0\n",
       "Insulin                     0\n",
       "BMI                         0\n",
       "DiabetesPedigreeFunction    0\n",
       "Age                         0\n",
       "Outcome                     0\n",
       "dtype: int64"
      ]
     },
     "execution_count": 5,
     "metadata": {},
     "output_type": "execute_result"
    }
   ],
   "source": [
    "missing_values = data.isnull().sum()\n",
    "missing_values"
   ]
  },
  {
   "cell_type": "markdown",
   "id": "387f7f86",
   "metadata": {
    "papermill": {
     "duration": 0.007432,
     "end_time": "2023-12-13T12:07:02.156290",
     "exception": false,
     "start_time": "2023-12-13T12:07:02.148858",
     "status": "completed"
    },
    "tags": []
   },
   "source": [
    "## then  no missing values in data\n",
    "## If we have missing values then we can \n",
    "#### 1-Drop missing values\n",
    "#### 2-Filling in missing values automatically\n",
    "(Another option is to try and fill in the missing values)"
   ]
  },
  {
   "cell_type": "code",
   "execution_count": 6,
   "id": "0ca28975",
   "metadata": {
    "execution": {
     "iopub.execute_input": "2023-12-13T12:07:02.174182Z",
     "iopub.status.busy": "2023-12-13T12:07:02.173667Z",
     "iopub.status.idle": "2023-12-13T12:07:02.184255Z",
     "shell.execute_reply": "2023-12-13T12:07:02.183198Z"
    },
    "papermill": {
     "duration": 0.022772,
     "end_time": "2023-12-13T12:07:02.186817",
     "exception": false,
     "start_time": "2023-12-13T12:07:02.164045",
     "status": "completed"
    },
    "tags": []
   },
   "outputs": [
    {
     "data": {
      "text/plain": [
       "(768, 9)"
      ]
     },
     "execution_count": 6,
     "metadata": {},
     "output_type": "execute_result"
    }
   ],
   "source": [
    "#1 remove all the rows that contain a missing value\n",
    "data_clean = data.dropna()\n",
    "data_clean.shape"
   ]
  },
  {
   "cell_type": "code",
   "execution_count": 7,
   "id": "38a1cb2d",
   "metadata": {
    "execution": {
     "iopub.execute_input": "2023-12-13T12:07:02.204758Z",
     "iopub.status.busy": "2023-12-13T12:07:02.204284Z",
     "iopub.status.idle": "2023-12-13T12:07:02.223195Z",
     "shell.execute_reply": "2023-12-13T12:07:02.222133Z"
    },
    "papermill": {
     "duration": 0.03093,
     "end_time": "2023-12-13T12:07:02.225750",
     "exception": false,
     "start_time": "2023-12-13T12:07:02.194820",
     "status": "completed"
    },
    "tags": []
   },
   "outputs": [
    {
     "data": {
      "text/html": [
       "<div>\n",
       "<style scoped>\n",
       "    .dataframe tbody tr th:only-of-type {\n",
       "        vertical-align: middle;\n",
       "    }\n",
       "\n",
       "    .dataframe tbody tr th {\n",
       "        vertical-align: top;\n",
       "    }\n",
       "\n",
       "    .dataframe thead th {\n",
       "        text-align: right;\n",
       "    }\n",
       "</style>\n",
       "<table border=\"1\" class=\"dataframe\">\n",
       "  <thead>\n",
       "    <tr style=\"text-align: right;\">\n",
       "      <th></th>\n",
       "      <th>Pregnancies</th>\n",
       "      <th>Glucose</th>\n",
       "      <th>BloodPressure</th>\n",
       "      <th>SkinThickness</th>\n",
       "      <th>Insulin</th>\n",
       "      <th>BMI</th>\n",
       "      <th>DiabetesPedigreeFunction</th>\n",
       "      <th>Age</th>\n",
       "      <th>Outcome</th>\n",
       "    </tr>\n",
       "  </thead>\n",
       "  <tbody>\n",
       "    <tr>\n",
       "      <th>0</th>\n",
       "      <td>6</td>\n",
       "      <td>148</td>\n",
       "      <td>72</td>\n",
       "      <td>35</td>\n",
       "      <td>0</td>\n",
       "      <td>33.6</td>\n",
       "      <td>0.627</td>\n",
       "      <td>50</td>\n",
       "      <td>1</td>\n",
       "    </tr>\n",
       "    <tr>\n",
       "      <th>1</th>\n",
       "      <td>1</td>\n",
       "      <td>85</td>\n",
       "      <td>66</td>\n",
       "      <td>29</td>\n",
       "      <td>0</td>\n",
       "      <td>26.6</td>\n",
       "      <td>0.351</td>\n",
       "      <td>31</td>\n",
       "      <td>0</td>\n",
       "    </tr>\n",
       "    <tr>\n",
       "      <th>2</th>\n",
       "      <td>8</td>\n",
       "      <td>183</td>\n",
       "      <td>64</td>\n",
       "      <td>0</td>\n",
       "      <td>0</td>\n",
       "      <td>23.3</td>\n",
       "      <td>0.672</td>\n",
       "      <td>32</td>\n",
       "      <td>1</td>\n",
       "    </tr>\n",
       "    <tr>\n",
       "      <th>3</th>\n",
       "      <td>1</td>\n",
       "      <td>89</td>\n",
       "      <td>66</td>\n",
       "      <td>23</td>\n",
       "      <td>94</td>\n",
       "      <td>28.1</td>\n",
       "      <td>0.167</td>\n",
       "      <td>21</td>\n",
       "      <td>0</td>\n",
       "    </tr>\n",
       "    <tr>\n",
       "      <th>4</th>\n",
       "      <td>0</td>\n",
       "      <td>137</td>\n",
       "      <td>40</td>\n",
       "      <td>35</td>\n",
       "      <td>168</td>\n",
       "      <td>43.1</td>\n",
       "      <td>2.288</td>\n",
       "      <td>33</td>\n",
       "      <td>1</td>\n",
       "    </tr>\n",
       "  </tbody>\n",
       "</table>\n",
       "</div>"
      ],
      "text/plain": [
       "   Pregnancies  Glucose  BloodPressure  SkinThickness  Insulin   BMI  \\\n",
       "0            6      148             72             35        0  33.6   \n",
       "1            1       85             66             29        0  26.6   \n",
       "2            8      183             64              0        0  23.3   \n",
       "3            1       89             66             23       94  28.1   \n",
       "4            0      137             40             35      168  43.1   \n",
       "\n",
       "   DiabetesPedigreeFunction  Age  Outcome  \n",
       "0                     0.627   50        1  \n",
       "1                     0.351   31        0  \n",
       "2                     0.672   32        1  \n",
       "3                     0.167   21        0  \n",
       "4                     2.288   33        1  "
      ]
     },
     "execution_count": 7,
     "metadata": {},
     "output_type": "execute_result"
    }
   ],
   "source": [
    "#2 remove all columns with at least one missing value\n",
    "columns_with_na_dropped = data.dropna(axis=1)\n",
    "columns_with_na_dropped.head()\n",
    "##data_clean.shape"
   ]
  },
  {
   "cell_type": "code",
   "execution_count": 8,
   "id": "2395a9e0",
   "metadata": {
    "execution": {
     "iopub.execute_input": "2023-12-13T12:07:02.245659Z",
     "iopub.status.busy": "2023-12-13T12:07:02.244959Z",
     "iopub.status.idle": "2023-12-13T12:07:02.250810Z",
     "shell.execute_reply": "2023-12-13T12:07:02.249701Z"
    },
    "papermill": {
     "duration": 0.019595,
     "end_time": "2023-12-13T12:07:02.253746",
     "exception": false,
     "start_time": "2023-12-13T12:07:02.234151",
     "status": "completed"
    },
    "tags": []
   },
   "outputs": [
    {
     "name": "stdout",
     "output_type": "stream",
     "text": [
      "Columns in original dataset:  9\n",
      "Columns with na's dropped:  9\n"
     ]
    }
   ],
   "source": [
    "#3 just how much data did we lose?\n",
    "print(\"Columns in original dataset: \", data.shape[1])\n",
    "print(\"Columns with na's dropped: \" , columns_with_na_dropped.shape[1])"
   ]
  },
  {
   "cell_type": "code",
   "execution_count": 9,
   "id": "66d7fa5e",
   "metadata": {
    "execution": {
     "iopub.execute_input": "2023-12-13T12:07:02.273449Z",
     "iopub.status.busy": "2023-12-13T12:07:02.272961Z",
     "iopub.status.idle": "2023-12-13T12:07:02.290627Z",
     "shell.execute_reply": "2023-12-13T12:07:02.289563Z"
    },
    "papermill": {
     "duration": 0.030867,
     "end_time": "2023-12-13T12:07:02.293565",
     "exception": false,
     "start_time": "2023-12-13T12:07:02.262698",
     "status": "completed"
    },
    "tags": []
   },
   "outputs": [
    {
     "data": {
      "text/html": [
       "<div>\n",
       "<style scoped>\n",
       "    .dataframe tbody tr th:only-of-type {\n",
       "        vertical-align: middle;\n",
       "    }\n",
       "\n",
       "    .dataframe tbody tr th {\n",
       "        vertical-align: top;\n",
       "    }\n",
       "\n",
       "    .dataframe thead th {\n",
       "        text-align: right;\n",
       "    }\n",
       "</style>\n",
       "<table border=\"1\" class=\"dataframe\">\n",
       "  <thead>\n",
       "    <tr style=\"text-align: right;\">\n",
       "      <th></th>\n",
       "      <th>Pregnancies</th>\n",
       "      <th>Glucose</th>\n",
       "      <th>BloodPressure</th>\n",
       "      <th>SkinThickness</th>\n",
       "      <th>Insulin</th>\n",
       "      <th>BMI</th>\n",
       "      <th>DiabetesPedigreeFunction</th>\n",
       "      <th>Age</th>\n",
       "      <th>Outcome</th>\n",
       "    </tr>\n",
       "  </thead>\n",
       "  <tbody>\n",
       "    <tr>\n",
       "      <th>0</th>\n",
       "      <td>6</td>\n",
       "      <td>148</td>\n",
       "      <td>72</td>\n",
       "      <td>35</td>\n",
       "      <td>0</td>\n",
       "      <td>33.6</td>\n",
       "      <td>0.627</td>\n",
       "      <td>50</td>\n",
       "      <td>1</td>\n",
       "    </tr>\n",
       "    <tr>\n",
       "      <th>1</th>\n",
       "      <td>1</td>\n",
       "      <td>85</td>\n",
       "      <td>66</td>\n",
       "      <td>29</td>\n",
       "      <td>0</td>\n",
       "      <td>26.6</td>\n",
       "      <td>0.351</td>\n",
       "      <td>31</td>\n",
       "      <td>0</td>\n",
       "    </tr>\n",
       "    <tr>\n",
       "      <th>2</th>\n",
       "      <td>8</td>\n",
       "      <td>183</td>\n",
       "      <td>64</td>\n",
       "      <td>0</td>\n",
       "      <td>0</td>\n",
       "      <td>23.3</td>\n",
       "      <td>0.672</td>\n",
       "      <td>32</td>\n",
       "      <td>1</td>\n",
       "    </tr>\n",
       "    <tr>\n",
       "      <th>3</th>\n",
       "      <td>1</td>\n",
       "      <td>89</td>\n",
       "      <td>66</td>\n",
       "      <td>23</td>\n",
       "      <td>94</td>\n",
       "      <td>28.1</td>\n",
       "      <td>0.167</td>\n",
       "      <td>21</td>\n",
       "      <td>0</td>\n",
       "    </tr>\n",
       "    <tr>\n",
       "      <th>4</th>\n",
       "      <td>0</td>\n",
       "      <td>137</td>\n",
       "      <td>40</td>\n",
       "      <td>35</td>\n",
       "      <td>168</td>\n",
       "      <td>43.1</td>\n",
       "      <td>2.288</td>\n",
       "      <td>33</td>\n",
       "      <td>1</td>\n",
       "    </tr>\n",
       "  </tbody>\n",
       "</table>\n",
       "</div>"
      ],
      "text/plain": [
       "   Pregnancies  Glucose  BloodPressure  SkinThickness  Insulin   BMI  \\\n",
       "0            6      148             72             35        0  33.6   \n",
       "1            1       85             66             29        0  26.6   \n",
       "2            8      183             64              0        0  23.3   \n",
       "3            1       89             66             23       94  28.1   \n",
       "4            0      137             40             35      168  43.1   \n",
       "\n",
       "   DiabetesPedigreeFunction  Age  Outcome  \n",
       "0                     0.627   50        1  \n",
       "1                     0.351   31        0  \n",
       "2                     0.672   32        1  \n",
       "3                     0.167   21        0  \n",
       "4                     2.288   33        1  "
      ]
     },
     "execution_count": 9,
     "metadata": {},
     "output_type": "execute_result"
    }
   ],
   "source": [
    "#4 Filling in missing values automatically(replace all NA's with 0)\n",
    "data_clean = data.fillna(0)\n",
    "data_clean.head()"
   ]
  },
  {
   "cell_type": "code",
   "execution_count": 10,
   "id": "d31557e2",
   "metadata": {
    "execution": {
     "iopub.execute_input": "2023-12-13T12:07:02.312817Z",
     "iopub.status.busy": "2023-12-13T12:07:02.312313Z",
     "iopub.status.idle": "2023-12-13T12:07:02.342509Z",
     "shell.execute_reply": "2023-12-13T12:07:02.341027Z"
    },
    "papermill": {
     "duration": 0.044154,
     "end_time": "2023-12-13T12:07:02.346138",
     "exception": false,
     "start_time": "2023-12-13T12:07:02.301984",
     "status": "completed"
    },
    "tags": []
   },
   "outputs": [
    {
     "data": {
      "text/html": [
       "<div>\n",
       "<style scoped>\n",
       "    .dataframe tbody tr th:only-of-type {\n",
       "        vertical-align: middle;\n",
       "    }\n",
       "\n",
       "    .dataframe tbody tr th {\n",
       "        vertical-align: top;\n",
       "    }\n",
       "\n",
       "    .dataframe thead th {\n",
       "        text-align: right;\n",
       "    }\n",
       "</style>\n",
       "<table border=\"1\" class=\"dataframe\">\n",
       "  <thead>\n",
       "    <tr style=\"text-align: right;\">\n",
       "      <th></th>\n",
       "      <th>Pregnancies</th>\n",
       "      <th>Glucose</th>\n",
       "      <th>BloodPressure</th>\n",
       "      <th>SkinThickness</th>\n",
       "      <th>Insulin</th>\n",
       "      <th>BMI</th>\n",
       "      <th>DiabetesPedigreeFunction</th>\n",
       "      <th>Age</th>\n",
       "      <th>Outcome</th>\n",
       "    </tr>\n",
       "  </thead>\n",
       "  <tbody>\n",
       "    <tr>\n",
       "      <th>0</th>\n",
       "      <td>6</td>\n",
       "      <td>148</td>\n",
       "      <td>72</td>\n",
       "      <td>35</td>\n",
       "      <td>0</td>\n",
       "      <td>33.6</td>\n",
       "      <td>0.627</td>\n",
       "      <td>50</td>\n",
       "      <td>1</td>\n",
       "    </tr>\n",
       "    <tr>\n",
       "      <th>1</th>\n",
       "      <td>1</td>\n",
       "      <td>85</td>\n",
       "      <td>66</td>\n",
       "      <td>29</td>\n",
       "      <td>0</td>\n",
       "      <td>26.6</td>\n",
       "      <td>0.351</td>\n",
       "      <td>31</td>\n",
       "      <td>0</td>\n",
       "    </tr>\n",
       "    <tr>\n",
       "      <th>2</th>\n",
       "      <td>8</td>\n",
       "      <td>183</td>\n",
       "      <td>64</td>\n",
       "      <td>0</td>\n",
       "      <td>0</td>\n",
       "      <td>23.3</td>\n",
       "      <td>0.672</td>\n",
       "      <td>32</td>\n",
       "      <td>1</td>\n",
       "    </tr>\n",
       "    <tr>\n",
       "      <th>3</th>\n",
       "      <td>1</td>\n",
       "      <td>89</td>\n",
       "      <td>66</td>\n",
       "      <td>23</td>\n",
       "      <td>94</td>\n",
       "      <td>28.1</td>\n",
       "      <td>0.167</td>\n",
       "      <td>21</td>\n",
       "      <td>0</td>\n",
       "    </tr>\n",
       "    <tr>\n",
       "      <th>4</th>\n",
       "      <td>0</td>\n",
       "      <td>137</td>\n",
       "      <td>40</td>\n",
       "      <td>35</td>\n",
       "      <td>168</td>\n",
       "      <td>43.1</td>\n",
       "      <td>2.288</td>\n",
       "      <td>33</td>\n",
       "      <td>1</td>\n",
       "    </tr>\n",
       "  </tbody>\n",
       "</table>\n",
       "</div>"
      ],
      "text/plain": [
       "   Pregnancies  Glucose  BloodPressure  SkinThickness  Insulin   BMI  \\\n",
       "0            6      148             72             35        0  33.6   \n",
       "1            1       85             66             29        0  26.6   \n",
       "2            8      183             64              0        0  23.3   \n",
       "3            1       89             66             23       94  28.1   \n",
       "4            0      137             40             35      168  43.1   \n",
       "\n",
       "   DiabetesPedigreeFunction  Age  Outcome  \n",
       "0                     0.627   50        1  \n",
       "1                     0.351   31        0  \n",
       "2                     0.672   32        1  \n",
       "3                     0.167   21        0  \n",
       "4                     2.288   33        1  "
      ]
     },
     "execution_count": 10,
     "metadata": {},
     "output_type": "execute_result"
    }
   ],
   "source": [
    "#5 replace all NA's the value that comes directly after it in the same column, \n",
    "data_clean = data.fillna(method='bfill', axis=0) # bfill and backfill is the same\n",
    "data_clean.head()"
   ]
  },
  {
   "cell_type": "code",
   "execution_count": 11,
   "id": "26e6a22b",
   "metadata": {
    "execution": {
     "iopub.execute_input": "2023-12-13T12:07:02.366525Z",
     "iopub.status.busy": "2023-12-13T12:07:02.366081Z",
     "iopub.status.idle": "2023-12-13T12:07:02.376378Z",
     "shell.execute_reply": "2023-12-13T12:07:02.374869Z"
    },
    "papermill": {
     "duration": 0.024087,
     "end_time": "2023-12-13T12:07:02.379316",
     "exception": false,
     "start_time": "2023-12-13T12:07:02.355229",
     "status": "completed"
    },
    "tags": []
   },
   "outputs": [
    {
     "data": {
      "text/plain": [
       "Pregnancies                 0\n",
       "Glucose                     0\n",
       "BloodPressure               0\n",
       "SkinThickness               0\n",
       "Insulin                     0\n",
       "BMI                         0\n",
       "DiabetesPedigreeFunction    0\n",
       "Age                         0\n",
       "Outcome                     0\n",
       "dtype: int64"
      ]
     },
     "execution_count": 11,
     "metadata": {},
     "output_type": "execute_result"
    }
   ],
   "source": [
    "data_clean.isnull().sum()"
   ]
  },
  {
   "cell_type": "markdown",
   "id": "6f39d3a4",
   "metadata": {
    "papermill": {
     "duration": 0.008563,
     "end_time": "2023-12-13T12:07:02.396734",
     "exception": false,
     "start_time": "2023-12-13T12:07:02.388171",
     "status": "completed"
    },
    "tags": []
   },
   "source": [
    "# 2- detect and remove outliers"
   ]
  },
  {
   "cell_type": "code",
   "execution_count": 12,
   "id": "5b119227",
   "metadata": {
    "execution": {
     "iopub.execute_input": "2023-12-13T12:07:02.416987Z",
     "iopub.status.busy": "2023-12-13T12:07:02.416523Z",
     "iopub.status.idle": "2023-12-13T12:07:02.953421Z",
     "shell.execute_reply": "2023-12-13T12:07:02.951621Z"
    },
    "papermill": {
     "duration": 0.550891,
     "end_time": "2023-12-13T12:07:02.956536",
     "exception": false,
     "start_time": "2023-12-13T12:07:02.405645",
     "status": "completed"
    },
    "tags": []
   },
   "outputs": [
    {
     "data": {
      "image/png": "[encoded data removed]",
      "text/plain": [
       "<Figure size 1500x900 with 1 Axes>"
      ]
     },
     "metadata": {},
     "output_type": "display_data"
    }
   ],
   "source": [
    "# Box Plot\n",
    "data.plot(kind='box', figsize=(15, 9))\n",
    "\n",
    "plt.title('visualize to get outliers ')\n",
    "plt.ylabel('Number of Immigrants')\n",
    "\n",
    "plt.show()"
   ]
  },
  {
   "cell_type": "code",
   "execution_count": null,
   "id": "eea91cb9",
   "metadata": {
    "papermill": {
     "duration": 0.009684,
     "end_time": "2023-12-13T12:07:02.976442",
     "exception": false,
     "start_time": "2023-12-13T12:07:02.966758",
     "status": "completed"
    },
    "tags": []
   },
   "outputs": [],
   "source": []
  }
 ],
 "metadata": {
  "kaggle": {
   "accelerator": "none",
   "dataSources": [
    {
     "datasetId": 4158557,
     "sourceId": 7191733,
     "sourceType": "datasetVersion"
    }
   ],
   "dockerImageVersionId": 30587,
   "isGpuEnabled": false,
   "isInternetEnabled": false,
   "language": "python",
   "sourceType": "notebook"
  },
  "kernelspec": {
   "display_name": "Python 3",
   "language": "python",
   "name": "python3"
  },
  "language_info": {
   "codemirror_mode": {
    "name": "ipython",
    "version": 3
   },
   "file_extension": ".py",
   "mimetype": "text/x-python",
   "name": "python",
   "nbconvert_exporter": "python",
   "pygments_lexer": "ipython3",
   "version": "3.10.12"
  },
  "papermill": {
   "default_parameters": {},
   "duration": 6.975862,
   "end_time": "2023-12-13T12:07:03.613035",
   "environment_variables": {},
   "exception": null,
   "input_path": "__notebook__.ipynb",
   "output_path": "__notebook__.ipynb",
   "parameters": {},
   "start_time": "2023-12-13T12:06:56.637173",
   "version": "2.4.0"
  }
 },
 "nbformat": 4,
 "nbformat_minor": 5
}
